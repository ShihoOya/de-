{
 "cells": [
  {
   "cell_type": "code",
   "execution_count": 1,
   "metadata": {},
   "outputs": [
    {
     "name": "stdout",
     "output_type": "stream",
     "text": [
      "/info/kouhou/index.html\n",
      "/data/guide/3.html\n",
      "/info/houdou.html\n",
      "/shared2017/images/TOP/genzai_chousa_chu.jpg\n",
      "/shared2017/images/TOP/kouhyouyotei.jpg\n",
      "/shared2017/images/TOP/houdouhappyou.jpg\n"
     ]
    }
   ],
   "source": [
    "import requests\n",
    "from bs4 import BeautifulSoup\n",
    "\n",
    "# スクレイピング対象のURL\n",
    "url = \"https://www.stat.go.jp\"\n",
    "\n",
    "# ウェブページを取得\n",
    "response = requests.get(url)\n",
    "\n",
    "# ページの内容をBeautifulSoupで解析\n",
    "soup = BeautifulSoup(response.text, 'html.parser')\n",
    "\n",
    "# テーブルを探す\n",
    "table = soup.find('table', class_='layout')\n",
    "\n",
    "# テーブル内のリンクを抽出\n",
    "if table:\n",
    "    links = table.find_all('a')\n",
    "    for link in links:\n",
    "        print(link.get('href'))  # リンクのURLを出力\n",
    "\n",
    "    # テーブル内の画像を抽出\n",
    "    images = table.find_all('img')\n",
    "    for img in images:\n",
    "        print(img.get('src'))  # 画像のURLを出力\n",
    "else:\n",
    "    print(\"テーブルが見つかりませんでした。\")\n"
   ]
  },
  {
   "cell_type": "code",
   "execution_count": 2,
   "metadata": {},
   "outputs": [
    {
     "name": "stdout",
     "output_type": "stream",
     "text": [
      "<table class=\"layout\">\n",
      "<tbody>\n",
      "<tr>\n",
      "<td><a class=\"running_investigation\" href=\"/info/kouhou/index.html\"><img alt=\"À{Ì²¸\" onmouseout=\"this.src='/shared2017/images/TOP/genzai_chousa_chu.jpg'\" onmouseover=\"this.src='/shared2017/images/TOP/genzai_chousa_chu_ON.jpg'\" src=\"/shared2017/images/TOP/genzai_chousa_chu.jpg\"/></a></td>\n",
      "<td><a class=\"planned_investigation\" href=\"/data/guide/3.html\"><img alt=\"ö\\\\è\" onmouseout=\"this.src='/shared2017/images/TOP/kouhyouyotei.jpg'\" onmouseover=\"this.src='/shared2017/images/TOP/kouhyouyotei_ON.jpg'\" src=\"/shared2017/images/TOP/kouhyouyotei.jpg\"/></a></td>\n",
      "<td><a class=\"press_report\" href=\"/info/houdou.html\"><img alt=\"ñ¹­\\¿\" onmouseout=\"this.src='/shared2017/images/TOP/houdouhappyou.jpg'\" onmouseover=\"this.src='/shared2017/images/TOP/houdouhappyou_ON.jpg'\" src=\"/shared2017/images/TOP/houdouhappyou.jpg\"/></a></td>\n",
      "</tr>\n",
      "</tbody>\n",
      "</table>\n"
     ]
    }
   ],
   "source": [
    "# テーブルが正しく取得できているか確認\n",
    "print(table)\n"
   ]
  },
  {
   "cell_type": "code",
   "execution_count": 3,
   "metadata": {},
   "outputs": [],
   "source": [
    "import pandas as pd\n",
    "\n",
    "# 例えば、収集したリンクをリストとして保存\n",
    "data = {'Links': links}\n",
    "df = pd.DataFrame(data)\n",
    "\n",
    "# CSVファイルに保存\n",
    "df.to_csv('links.csv', index=False)\n"
   ]
  },
  {
   "cell_type": "code",
   "execution_count": 4,
   "metadata": {},
   "outputs": [],
   "source": [
    "import sqlite3\n",
    "\n",
    "# データベースに接続。データベースが存在しない場合は新規作成される\n",
    "conn = sqlite3.connect('links.db')\n",
    "\n",
    "# カーソルオブジェクトを取得\n",
    "cursor = conn.cursor()\n"
   ]
  },
  {
   "cell_type": "code",
   "execution_count": 5,
   "metadata": {},
   "outputs": [],
   "source": [
    "# テーブルの作成\n",
    "cursor.execute('''\n",
    "CREATE TABLE IF NOT EXISTS links (\n",
    "    id INTEGER PRIMARY KEY AUTOINCREMENT,\n",
    "    url TEXT NOT NULL\n",
    ")\n",
    "''')\n",
    "\n",
    "# コミットして変更を保存\n",
    "conn.commit()\n"
   ]
  },
  {
   "cell_type": "code",
   "execution_count": 6,
   "metadata": {},
   "outputs": [],
   "source": [
    "import pandas as pd\n",
    "\n",
    "# CSVファイルからデータを読み込む\n",
    "df = pd.read_csv('links.csv')\n",
    "\n",
    "# リンクを1つずつデータベースに挿入\n",
    "for index, row in df.iterrows():\n",
    "    cursor.execute('''\n",
    "    INSERT INTO links (url) VALUES (?)\n",
    "    ''', (row['Links'],))\n",
    "\n",
    "# コミットして変更を保存\n",
    "conn.commit()\n"
   ]
  },
  {
   "cell_type": "code",
   "execution_count": 7,
   "metadata": {},
   "outputs": [
    {
     "name": "stdout",
     "output_type": "stream",
     "text": [
      "(1, '<a class=\"running_investigation\" href=\"/info/kouhou/index.html\"><img alt=\"\\x8eÀ\\x8e{\\x92\\x86\\x82Ì\\x92²\\x8d¸\" onmouseout=\"this.src=\\'/shared2017/images/TOP/genzai_chousa_chu.jpg\\'\" onmouseover=\"this.src=\\'/shared2017/images/TOP/genzai_chousa_chu_ON.jpg\\'\" src=\"/shared2017/images/TOP/genzai_chousa_chu.jpg\"/></a>')\n",
      "(2, '<a class=\"planned_investigation\" href=\"/data/guide/3.html\"><img alt=\"\\x8cö\\x95\\\\\\x97\\\\\\x92è\" onmouseout=\"this.src=\\'/shared2017/images/TOP/kouhyouyotei.jpg\\'\" onmouseover=\"this.src=\\'/shared2017/images/TOP/kouhyouyotei_ON.jpg\\'\" src=\"/shared2017/images/TOP/kouhyouyotei.jpg\"/></a>')\n",
      "(3, '<a class=\"press_report\" href=\"/info/houdou.html\"><img alt=\"\\x95ñ\\x93¹\\x94\\xad\\x95\\\\\\x8e\\x91\\x97¿\" onmouseout=\"this.src=\\'/shared2017/images/TOP/houdouhappyou.jpg\\'\" onmouseover=\"this.src=\\'/shared2017/images/TOP/houdouhappyou_ON.jpg\\'\" src=\"/shared2017/images/TOP/houdouhappyou.jpg\"/></a>')\n",
      "(4, '<a class=\"running_investigation\" href=\"/info/kouhou/index.html\"><img alt=\"\\x8eÀ\\x8e{\\x92\\x86\\x82Ì\\x92²\\x8d¸\" onmouseout=\"this.src=\\'/shared2017/images/TOP/genzai_chousa_chu.jpg\\'\" onmouseover=\"this.src=\\'/shared2017/images/TOP/genzai_chousa_chu_ON.jpg\\'\" src=\"/shared2017/images/TOP/genzai_chousa_chu.jpg\"/></a>')\n",
      "(5, '<a class=\"planned_investigation\" href=\"/data/guide/3.html\"><img alt=\"\\x8cö\\x95\\\\\\x97\\\\\\x92è\" onmouseout=\"this.src=\\'/shared2017/images/TOP/kouhyouyotei.jpg\\'\" onmouseover=\"this.src=\\'/shared2017/images/TOP/kouhyouyotei_ON.jpg\\'\" src=\"/shared2017/images/TOP/kouhyouyotei.jpg\"/></a>')\n",
      "(6, '<a class=\"press_report\" href=\"/info/houdou.html\"><img alt=\"\\x95ñ\\x93¹\\x94\\xad\\x95\\\\\\x8e\\x91\\x97¿\" onmouseout=\"this.src=\\'/shared2017/images/TOP/houdouhappyou.jpg\\'\" onmouseover=\"this.src=\\'/shared2017/images/TOP/houdouhappyou_ON.jpg\\'\" src=\"/shared2017/images/TOP/houdouhappyou.jpg\"/></a>')\n",
      "(7, '<a class=\"running_investigation\" href=\"/info/kouhou/index.html\"><img alt=\"\\x8eÀ\\x8e{\\x92\\x86\\x82Ì\\x92²\\x8d¸\" onmouseout=\"this.src=\\'/shared2017/images/TOP/genzai_chousa_chu.jpg\\'\" onmouseover=\"this.src=\\'/shared2017/images/TOP/genzai_chousa_chu_ON.jpg\\'\" src=\"/shared2017/images/TOP/genzai_chousa_chu.jpg\"/></a>')\n",
      "(8, '<a class=\"planned_investigation\" href=\"/data/guide/3.html\"><img alt=\"\\x8cö\\x95\\\\\\x97\\\\\\x92è\" onmouseout=\"this.src=\\'/shared2017/images/TOP/kouhyouyotei.jpg\\'\" onmouseover=\"this.src=\\'/shared2017/images/TOP/kouhyouyotei_ON.jpg\\'\" src=\"/shared2017/images/TOP/kouhyouyotei.jpg\"/></a>')\n",
      "(9, '<a class=\"press_report\" href=\"/info/houdou.html\"><img alt=\"\\x95ñ\\x93¹\\x94\\xad\\x95\\\\\\x8e\\x91\\x97¿\" onmouseout=\"this.src=\\'/shared2017/images/TOP/houdouhappyou.jpg\\'\" onmouseover=\"this.src=\\'/shared2017/images/TOP/houdouhappyou_ON.jpg\\'\" src=\"/shared2017/images/TOP/houdouhappyou.jpg\"/></a>')\n",
      "(10, '<a class=\"running_investigation\" href=\"/info/kouhou/index.html\"><img alt=\"\\x8eÀ\\x8e{\\x92\\x86\\x82Ì\\x92²\\x8d¸\" onmouseout=\"this.src=\\'/shared2017/images/TOP/genzai_chousa_chu.jpg\\'\" onmouseover=\"this.src=\\'/shared2017/images/TOP/genzai_chousa_chu_ON.jpg\\'\" src=\"/shared2017/images/TOP/genzai_chousa_chu.jpg\"/></a>')\n",
      "(11, '<a class=\"planned_investigation\" href=\"/data/guide/3.html\"><img alt=\"\\x8cö\\x95\\\\\\x97\\\\\\x92è\" onmouseout=\"this.src=\\'/shared2017/images/TOP/kouhyouyotei.jpg\\'\" onmouseover=\"this.src=\\'/shared2017/images/TOP/kouhyouyotei_ON.jpg\\'\" src=\"/shared2017/images/TOP/kouhyouyotei.jpg\"/></a>')\n",
      "(12, '<a class=\"press_report\" href=\"/info/houdou.html\"><img alt=\"\\x95ñ\\x93¹\\x94\\xad\\x95\\\\\\x8e\\x91\\x97¿\" onmouseout=\"this.src=\\'/shared2017/images/TOP/houdouhappyou.jpg\\'\" onmouseover=\"this.src=\\'/shared2017/images/TOP/houdouhappyou_ON.jpg\\'\" src=\"/shared2017/images/TOP/houdouhappyou.jpg\"/></a>')\n"
     ]
    }
   ],
   "source": [
    "# データを取得して表示\n",
    "cursor.execute('SELECT * FROM links')\n",
    "rows = cursor.fetchall()\n",
    "\n",
    "for row in rows:\n",
    "    print(row)\n",
    "\n",
    "# 接続を閉じる\n",
    "conn.close()\n"
   ]
  },
  {
   "cell_type": "code",
   "execution_count": 9,
   "metadata": {},
   "outputs": [
    {
     "name": "stderr",
     "output_type": "stream",
     "text": [
      "/Users/ooyashiho/.pyenv/versions/3.10.1/lib/python3.10/site-packages/IPython/core/pylabtools.py:170: UserWarning: Glyph 142 (\\x8e) missing from font(s) DejaVu Sans.\n",
      "  fig.canvas.print_figure(bytes_io, **kw)\n",
      "/Users/ooyashiho/.pyenv/versions/3.10.1/lib/python3.10/site-packages/IPython/core/pylabtools.py:170: UserWarning: Glyph 146 (\\x92) missing from font(s) DejaVu Sans.\n",
      "  fig.canvas.print_figure(bytes_io, **kw)\n",
      "/Users/ooyashiho/.pyenv/versions/3.10.1/lib/python3.10/site-packages/IPython/core/pylabtools.py:170: UserWarning: Glyph 134 (\\x86) missing from font(s) DejaVu Sans.\n",
      "  fig.canvas.print_figure(bytes_io, **kw)\n",
      "/Users/ooyashiho/.pyenv/versions/3.10.1/lib/python3.10/site-packages/IPython/core/pylabtools.py:170: UserWarning: Glyph 130 (\\x82) missing from font(s) DejaVu Sans.\n",
      "  fig.canvas.print_figure(bytes_io, **kw)\n",
      "/Users/ooyashiho/.pyenv/versions/3.10.1/lib/python3.10/site-packages/IPython/core/pylabtools.py:170: UserWarning: Glyph 141 (\\x8d) missing from font(s) DejaVu Sans.\n",
      "  fig.canvas.print_figure(bytes_io, **kw)\n",
      "/Users/ooyashiho/.pyenv/versions/3.10.1/lib/python3.10/site-packages/IPython/core/pylabtools.py:170: UserWarning: Glyph 140 (\\x8c) missing from font(s) DejaVu Sans.\n",
      "  fig.canvas.print_figure(bytes_io, **kw)\n",
      "/Users/ooyashiho/.pyenv/versions/3.10.1/lib/python3.10/site-packages/IPython/core/pylabtools.py:170: UserWarning: Glyph 149 (\\x95) missing from font(s) DejaVu Sans.\n",
      "  fig.canvas.print_figure(bytes_io, **kw)\n",
      "/Users/ooyashiho/.pyenv/versions/3.10.1/lib/python3.10/site-packages/IPython/core/pylabtools.py:170: UserWarning: Glyph 151 (\\x97) missing from font(s) DejaVu Sans.\n",
      "  fig.canvas.print_figure(bytes_io, **kw)\n",
      "/Users/ooyashiho/.pyenv/versions/3.10.1/lib/python3.10/site-packages/IPython/core/pylabtools.py:170: UserWarning: Glyph 147 (\\x93) missing from font(s) DejaVu Sans.\n",
      "  fig.canvas.print_figure(bytes_io, **kw)\n",
      "/Users/ooyashiho/.pyenv/versions/3.10.1/lib/python3.10/site-packages/IPython/core/pylabtools.py:170: UserWarning: Glyph 148 (\\x94) missing from font(s) DejaVu Sans.\n",
      "  fig.canvas.print_figure(bytes_io, **kw)\n",
      "/Users/ooyashiho/.pyenv/versions/3.10.1/lib/python3.10/site-packages/IPython/core/pylabtools.py:170: UserWarning: Glyph 145 (\\x91) missing from font(s) DejaVu Sans.\n",
      "  fig.canvas.print_figure(bytes_io, **kw)\n"
     ]
    },
    {
     "data": {
      "image/png": "[encoded data removed]",
      "text/plain": [
       "<Figure size 640x480 with 1 Axes>"
      ]
     },
     "metadata": {},
     "output_type": "display_data"
    }
   ],
   "source": [
    "import matplotlib.pyplot as plt\n",
    "import pandas as pd\n",
    "\n",
    "# 例: リンクの出現頻度をカウントして棒グラフにする\n",
    "# まずはデータフレームを作成\n",
    "df = pd.read_csv('links.csv')\n",
    "\n",
    "# リンクごとの出現回数をカウント\n",
    "link_counts = df['Links'].value_counts()\n",
    "\n",
    "# 棒グラフを作成\n",
    "link_counts.plot(kind='bar')\n",
    "\n",
    "# グラフのタイトルとラベルを設定\n",
    "plt.title('Link Frequency')\n",
    "plt.xlabel('Link')\n",
    "plt.ylabel('Count')\n",
    "\n",
    "# グラフを表示\n",
    "plt.show()\n"
   ]
  },
  {
   "cell_type": "code",
   "execution_count": 10,
   "metadata": {},
   "outputs": [],
   "source": [
    "import sqlite3\n",
    "\n",
    "# SQLiteのデータベースに接続\n",
    "conn = sqlite3.connect('links.db')  # DB名が'links.db'の場合\n",
    "\n",
    "# カーソルを作成\n",
    "cursor = conn.cursor()\n"
   ]
  },
  {
   "cell_type": "code",
   "execution_count": 24,
   "metadata": {},
   "outputs": [
    {
     "name": "stdout",
     "output_type": "stream",
     "text": [
      "('links', 12)\n"
     ]
    }
   ],
   "source": [
    "import sqlite3\n",
    "\n",
    "# SQLiteデータベースに接続\n",
    "conn = sqlite3.connect('links.db')  # データベース名に応じて変更\n",
    "\n",
    "# カーソルを作成\n",
    "cursor = conn.cursor()\n",
    "\n",
    "# テーブルの内容を取得するクエリ（適切なテーブル名を指定）\n",
    "cursor.execute(\"SELECT * FROM sqlite_sequence\")  # sqlite_sequence は通常、SQLite内部のテーブル\n",
    "\n",
    "# 結果をフェッチ\n",
    "rows = cursor.fetchall()\n",
    "\n",
    "# 結果を表示\n",
    "for row in rows:\n",
    "    print(row)\n",
    "\n",
    "# 接続を閉じる\n",
    "conn.close()\n"
   ]
  },
  {
   "cell_type": "code",
   "execution_count": 26,
   "metadata": {},
   "outputs": [
    {
     "name": "stdout",
     "output_type": "stream",
     "text": [
      "(1, '<a class=\"running_investigation\" href=\"/info/kouhou/index.html\"><img alt=\"\\x8eÀ\\x8e{\\x92\\x86\\x82Ì\\x92²\\x8d¸\" onmouseout=\"this.src=\\'/shared2017/images/TOP/genzai_chousa_chu.jpg\\'\" onmouseover=\"this.src=\\'/shared2017/images/TOP/genzai_chousa_chu_ON.jpg\\'\" src=\"/shared2017/images/TOP/genzai_chousa_chu.jpg\"/></a>')\n",
      "(2, '<a class=\"planned_investigation\" href=\"/data/guide/3.html\"><img alt=\"\\x8cö\\x95\\\\\\x97\\\\\\x92è\" onmouseout=\"this.src=\\'/shared2017/images/TOP/kouhyouyotei.jpg\\'\" onmouseover=\"this.src=\\'/shared2017/images/TOP/kouhyouyotei_ON.jpg\\'\" src=\"/shared2017/images/TOP/kouhyouyotei.jpg\"/></a>')\n",
      "(3, '<a class=\"press_report\" href=\"/info/houdou.html\"><img alt=\"\\x95ñ\\x93¹\\x94\\xad\\x95\\\\\\x8e\\x91\\x97¿\" onmouseout=\"this.src=\\'/shared2017/images/TOP/houdouhappyou.jpg\\'\" onmouseover=\"this.src=\\'/shared2017/images/TOP/houdouhappyou_ON.jpg\\'\" src=\"/shared2017/images/TOP/houdouhappyou.jpg\"/></a>')\n",
      "(4, '<a class=\"running_investigation\" href=\"/info/kouhou/index.html\"><img alt=\"\\x8eÀ\\x8e{\\x92\\x86\\x82Ì\\x92²\\x8d¸\" onmouseout=\"this.src=\\'/shared2017/images/TOP/genzai_chousa_chu.jpg\\'\" onmouseover=\"this.src=\\'/shared2017/images/TOP/genzai_chousa_chu_ON.jpg\\'\" src=\"/shared2017/images/TOP/genzai_chousa_chu.jpg\"/></a>')\n",
      "(5, '<a class=\"planned_investigation\" href=\"/data/guide/3.html\"><img alt=\"\\x8cö\\x95\\\\\\x97\\\\\\x92è\" onmouseout=\"this.src=\\'/shared2017/images/TOP/kouhyouyotei.jpg\\'\" onmouseover=\"this.src=\\'/shared2017/images/TOP/kouhyouyotei_ON.jpg\\'\" src=\"/shared2017/images/TOP/kouhyouyotei.jpg\"/></a>')\n",
      "(6, '<a class=\"press_report\" href=\"/info/houdou.html\"><img alt=\"\\x95ñ\\x93¹\\x94\\xad\\x95\\\\\\x8e\\x91\\x97¿\" onmouseout=\"this.src=\\'/shared2017/images/TOP/houdouhappyou.jpg\\'\" onmouseover=\"this.src=\\'/shared2017/images/TOP/houdouhappyou_ON.jpg\\'\" src=\"/shared2017/images/TOP/houdouhappyou.jpg\"/></a>')\n",
      "(7, '<a class=\"running_investigation\" href=\"/info/kouhou/index.html\"><img alt=\"\\x8eÀ\\x8e{\\x92\\x86\\x82Ì\\x92²\\x8d¸\" onmouseout=\"this.src=\\'/shared2017/images/TOP/genzai_chousa_chu.jpg\\'\" onmouseover=\"this.src=\\'/shared2017/images/TOP/genzai_chousa_chu_ON.jpg\\'\" src=\"/shared2017/images/TOP/genzai_chousa_chu.jpg\"/></a>')\n",
      "(8, '<a class=\"planned_investigation\" href=\"/data/guide/3.html\"><img alt=\"\\x8cö\\x95\\\\\\x97\\\\\\x92è\" onmouseout=\"this.src=\\'/shared2017/images/TOP/kouhyouyotei.jpg\\'\" onmouseover=\"this.src=\\'/shared2017/images/TOP/kouhyouyotei_ON.jpg\\'\" src=\"/shared2017/images/TOP/kouhyouyotei.jpg\"/></a>')\n",
      "(9, '<a class=\"press_report\" href=\"/info/houdou.html\"><img alt=\"\\x95ñ\\x93¹\\x94\\xad\\x95\\\\\\x8e\\x91\\x97¿\" onmouseout=\"this.src=\\'/shared2017/images/TOP/houdouhappyou.jpg\\'\" onmouseover=\"this.src=\\'/shared2017/images/TOP/houdouhappyou_ON.jpg\\'\" src=\"/shared2017/images/TOP/houdouhappyou.jpg\"/></a>')\n",
      "(10, '<a class=\"running_investigation\" href=\"/info/kouhou/index.html\"><img alt=\"\\x8eÀ\\x8e{\\x92\\x86\\x82Ì\\x92²\\x8d¸\" onmouseout=\"this.src=\\'/shared2017/images/TOP/genzai_chousa_chu.jpg\\'\" onmouseover=\"this.src=\\'/shared2017/images/TOP/genzai_chousa_chu_ON.jpg\\'\" src=\"/shared2017/images/TOP/genzai_chousa_chu.jpg\"/></a>')\n",
      "(11, '<a class=\"planned_investigation\" href=\"/data/guide/3.html\"><img alt=\"\\x8cö\\x95\\\\\\x97\\\\\\x92è\" onmouseout=\"this.src=\\'/shared2017/images/TOP/kouhyouyotei.jpg\\'\" onmouseover=\"this.src=\\'/shared2017/images/TOP/kouhyouyotei_ON.jpg\\'\" src=\"/shared2017/images/TOP/kouhyouyotei.jpg\"/></a>')\n",
      "(12, '<a class=\"press_report\" href=\"/info/houdou.html\"><img alt=\"\\x95ñ\\x93¹\\x94\\xad\\x95\\\\\\x8e\\x91\\x97¿\" onmouseout=\"this.src=\\'/shared2017/images/TOP/houdouhappyou.jpg\\'\" onmouseover=\"this.src=\\'/shared2017/images/TOP/houdouhappyou_ON.jpg\\'\" src=\"/shared2017/images/TOP/houdouhappyou.jpg\"/></a>')\n"
     ]
    }
   ],
   "source": [
    "import sqlite3\n",
    "\n",
    "# SQLiteデータベースに接続\n",
    "conn = sqlite3.connect('links.db')  # データベース名に応じて変更\n",
    "\n",
    "# カーソルを作成\n",
    "cursor = conn.cursor()\n",
    "\n",
    "# テーブルの内容を取得するクエリ（'links' テーブルを指定）\n",
    "cursor.execute(\"SELECT * FROM links\")\n",
    "\n",
    "# 結果をフェッチ\n",
    "rows = cursor.fetchall()\n",
    "\n",
    "# 結果を表示\n",
    "for row in rows:\n",
    "    print(row)\n",
    "\n",
    "# 接続を閉じる\n",
    "conn.close()\n"
   ]
  },
  {
   "cell_type": "code",
   "execution_count": 27,
   "metadata": {},
   "outputs": [
    {
     "name": "stdout",
     "output_type": "stream",
     "text": [
      "URL: /info/kouhou/index.html, Class: running_investigation\n",
      "URL: /data/guide/3.html, Class: planned_investigation\n",
      "URL: /info/houdou.html, Class: press_report\n",
      "URL: /info/kouhou/index.html, Class: running_investigation\n",
      "URL: /data/guide/3.html, Class: planned_investigation\n",
      "URL: /info/houdou.html, Class: press_report\n",
      "URL: /info/kouhou/index.html, Class: running_investigation\n",
      "URL: /data/guide/3.html, Class: planned_investigation\n",
      "URL: /info/houdou.html, Class: press_report\n",
      "URL: /info/kouhou/index.html, Class: running_investigation\n",
      "URL: /data/guide/3.html, Class: planned_investigation\n",
      "URL: /info/houdou.html, Class: press_report\n"
     ]
    }
   ],
   "source": [
    "from bs4 import BeautifulSoup\n",
    "\n",
    "for row in rows:\n",
    "    # HTMLデータをBeautifulSoupでパース\n",
    "    soup = BeautifulSoup(row[1], 'html.parser')\n",
    "    # href属性を取得\n",
    "    href = soup.a['href']\n",
    "    # クラス名を取得\n",
    "    class_name = soup.a['class'][0]  # もしclassが複数ある場合には調整する\n",
    "    print(f'URL: {href}, Class: {class_name}')\n"
   ]
  },
  {
   "cell_type": "code",
   "execution_count": 31,
   "metadata": {},
   "outputs": [
    {
     "data": {
      "application/vnd.plotly.v1+json": {
       "config": {
        "plotlyServerURL": "https://plot.ly"
       },
       "data": [
        {
         "alignmentgroup": "True",
         "hovertemplate": "URL=%{x}<br>Count=%{y}<extra></extra>",
         "legendgroup": "",
         "marker": {
          "color": "#636efa",
          "pattern": {
           "shape": ""
          }
         },
         "name": "",
         "offsetgroup": "",
         "orientation": "v",
         "showlegend": false,
         "textposition": "auto",
         "type": "bar",
         "x": [
          "/data/guide/3.html",
          "/info/houdou.html",
          "/info/kouhou/index.html"
         ],
         "xaxis": "x",
         "y": [
          4,
          4,
          4
         ],
         "yaxis": "y"
        }
       ],
       "layout": {
        "barmode": "relative",
        "legend": {
         "tracegroupgap": 0
        },
        "template": {
         "data": {
          "bar": [
           {
            "error_x": {
             "color": "#2a3f5f"
            },
            "error_y": {
             "color": "#2a3f5f"
            },
            "marker": {
             "line": {
              "color": "#E5ECF6",
              "width": 0.5
             },
             "pattern": {
              "fillmode": "overlay",
              "size": 10,
              "solidity": 0.2
             }
            },
            "type": "bar"
           }
          ],
          "barpolar": [
           {
            "marker": {
             "line": {
              "color": "#E5ECF6",
              "width": 0.5
             },
             "pattern": {
              "fillmode": "overlay",
              "size": 10,
              "solidity": 0.2
             }
            },
            "type": "barpolar"
           }
          ],
          "carpet": [
           {
            "aaxis": {
             "endlinecolor": "#2a3f5f",
             "gridcolor": "white",
             "linecolor": "white",
             "minorgridcolor": "white",
             "startlinecolor": "#2a3f5f"
            },
            "baxis": {
             "endlinecolor": "#2a3f5f",
             "gridcolor": "white",
             "linecolor": "white",
             "minorgridcolor": "white",
             "startlinecolor": "#2a3f5f"
            },
            "type": "carpet"
           }
          ],
          "choropleth": [
           {
            "colorbar": {
             "outlinewidth": 0,
             "ticks": ""
            },
            "type": "choropleth"
           }
          ],
          "contour": [
           {
            "colorbar": {
             "outlinewidth": 0,
             "ticks": ""
            },
            "colorscale": [
             [
              0,
              "#0d0887"
             ],
             [
              0.1111111111111111,
              "#46039f"
             ],
             [
              0.2222222222222222,
              "#7201a8"
             ],
             [
              0.3333333333333333,
              "#9c179e"
             ],
             [
              0.4444444444444444,
              "#bd3786"
             ],
             [
              0.5555555555555556,
              "#d8576b"
             ],
             [
              0.6666666666666666,
              "#ed7953"
             ],
             [
              0.7777777777777778,
              "#fb9f3a"
             ],
             [
              0.8888888888888888,
              "#fdca26"
             ],
             [
              1,
              "#f0f921"
             ]
            ],
            "type": "contour"
           }
          ],
          "contourcarpet": [
           {
            "colorbar": {
             "outlinewidth": 0,
             "ticks": ""
            },
            "type": "contourcarpet"
           }
          ],
          "heatmap": [
           {
            "colorbar": {
             "outlinewidth": 0,
             "ticks": ""
            },
            "colorscale": [
             [
              0,
              "#0d0887"
             ],
             [
              0.1111111111111111,
              "#46039f"
             ],
             [
              0.2222222222222222,
              "#7201a8"
             ],
             [
              0.3333333333333333,
              "#9c179e"
             ],
             [
              0.4444444444444444,
              "#bd3786"
             ],
             [
              0.5555555555555556,
              "#d8576b"
             ],
             [
              0.6666666666666666,
              "#ed7953"
             ],
             [
              0.7777777777777778,
              "#fb9f3a"
             ],
             [
              0.8888888888888888,
              "#fdca26"
             ],
             [
              1,
              "#f0f921"
             ]
            ],
            "type": "heatmap"
           }
          ],
          "heatmapgl": [
           {
            "colorbar": {
             "outlinewidth": 0,
             "ticks": ""
            },
            "colorscale": [
             [
              0,
              "#0d0887"
             ],
             [
              0.1111111111111111,
              "#46039f"
             ],
             [
              0.2222222222222222,
              "#7201a8"
             ],
             [
              0.3333333333333333,
              "#9c179e"
             ],
             [
              0.4444444444444444,
              "#bd3786"
             ],
             [
              0.5555555555555556,
              "#d8576b"
             ],
             [
              0.6666666666666666,
              "#ed7953"
             ],
             [
              0.7777777777777778,
              "#fb9f3a"
             ],
             [
              0.8888888888888888,
              "#fdca26"
             ],
             [
              1,
              "#f0f921"
             ]
            ],
            "type": "heatmapgl"
           }
          ],
          "histogram": [
           {
            "marker": {
             "pattern": {
              "fillmode": "overlay",
              "size": 10,
              "solidity": 0.2
             }
            },
            "type": "histogram"
           }
          ],
          "histogram2d": [
           {
            "colorbar": {
             "outlinewidth": 0,
             "ticks": ""
            },
            "colorscale": [
             [
              0,
              "#0d0887"
             ],
             [
              0.1111111111111111,
              "#46039f"
             ],
             [
              0.2222222222222222,
              "#7201a8"
             ],
             [
              0.3333333333333333,
              "#9c179e"
             ],
             [
              0.4444444444444444,
              "#bd3786"
             ],
             [
              0.5555555555555556,
              "#d8576b"
             ],
             [
              0.6666666666666666,
              "#ed7953"
             ],
             [
              0.7777777777777778,
              "#fb9f3a"
             ],
             [
              0.8888888888888888,
              "#fdca26"
             ],
             [
              1,
              "#f0f921"
             ]
            ],
            "type": "histogram2d"
           }
          ],
          "histogram2dcontour": [
           {
            "colorbar": {
             "outlinewidth": 0,
             "ticks": ""
            },
            "colorscale": [
             [
              0,
              "#0d0887"
             ],
             [
              0.1111111111111111,
              "#46039f"
             ],
             [
              0.2222222222222222,
              "#7201a8"
             ],
             [
              0.3333333333333333,
              "#9c179e"
             ],
             [
              0.4444444444444444,
              "#bd3786"
             ],
             [
              0.5555555555555556,
              "#d8576b"
             ],
             [
              0.6666666666666666,
              "#ed7953"
             ],
             [
              0.7777777777777778,
              "#fb9f3a"
             ],
             [
              0.8888888888888888,
              "#fdca26"
             ],
             [
              1,
              "#f0f921"
             ]
            ],
            "type": "histogram2dcontour"
           }
          ],
          "mesh3d": [
           {
            "colorbar": {
             "outlinewidth": 0,
             "ticks": ""
            },
            "type": "mesh3d"
           }
          ],
          "parcoords": [
           {
            "line": {
             "colorbar": {
              "outlinewidth": 0,
              "ticks": ""
             }
            },
            "type": "parcoords"
           }
          ],
          "pie": [
           {
            "automargin": true,
            "type": "pie"
           }
          ],
          "scatter": [
           {
            "fillpattern": {
             "fillmode": "overlay",
             "size": 10,
             "solidity": 0.2
            },
            "type": "scatter"
           }
          ],
          "scatter3d": [
           {
            "line": {
             "colorbar": {
              "outlinewidth": 0,
              "ticks": ""
             }
            },
            "marker": {
             "colorbar": {
              "outlinewidth": 0,
              "ticks": ""
             }
            },
            "type": "scatter3d"
           }
          ],
          "scattercarpet": [
           {
            "marker": {
             "colorbar": {
              "outlinewidth": 0,
              "ticks": ""
             }
            },
            "type": "scattercarpet"
           }
          ],
          "scattergeo": [
           {
            "marker": {
             "colorbar": {
              "outlinewidth": 0,
              "ticks": ""
             }
            },
            "type": "scattergeo"
           }
          ],
          "scattergl": [
           {
            "marker": {
             "colorbar": {
              "outlinewidth": 0,
              "ticks": ""
             }
            },
            "type": "scattergl"
           }
          ],
          "scattermapbox": [
           {
            "marker": {
             "colorbar": {
              "outlinewidth": 0,
              "ticks": ""
             }
            },
            "type": "scattermapbox"
           }
          ],
          "scatterpolar": [
           {
            "marker": {
             "colorbar": {
              "outlinewidth": 0,
              "ticks": ""
             }
            },
            "type": "scatterpolar"
           }
          ],
          "scatterpolargl": [
           {
            "marker": {
             "colorbar": {
              "outlinewidth": 0,
              "ticks": ""
             }
            },
            "type": "scatterpolargl"
           }
          ],
          "scatterternary": [
           {
            "marker": {
             "colorbar": {
              "outlinewidth": 0,
              "ticks": ""
             }
            },
            "type": "scatterternary"
           }
          ],
          "surface": [
           {
            "colorbar": {
             "outlinewidth": 0,
             "ticks": ""
            },
            "colorscale": [
             [
              0,
              "#0d0887"
             ],
             [
              0.1111111111111111,
              "#46039f"
             ],
             [
              0.2222222222222222,
              "#7201a8"
             ],
             [
              0.3333333333333333,
              "#9c179e"
             ],
             [
              0.4444444444444444,
              "#bd3786"
             ],
             [
              0.5555555555555556,
              "#d8576b"
             ],
             [
              0.6666666666666666,
              "#ed7953"
             ],
             [
              0.7777777777777778,
              "#fb9f3a"
             ],
             [
              0.8888888888888888,
              "#fdca26"
             ],
             [
              1,
              "#f0f921"
             ]
            ],
            "type": "surface"
           }
          ],
          "table": [
           {
            "cells": {
             "fill": {
              "color": "#EBF0F8"
             },
             "line": {
              "color": "white"
             }
            },
            "header": {
             "fill": {
              "color": "#C8D4E3"
             },
             "line": {
              "color": "white"
             }
            },
            "type": "table"
           }
          ]
         },
         "layout": {
          "annotationdefaults": {
           "arrowcolor": "#2a3f5f",
           "arrowhead": 0,
           "arrowwidth": 1
          },
          "autotypenumbers": "strict",
          "coloraxis": {
           "colorbar": {
            "outlinewidth": 0,
            "ticks": ""
           }
          },
          "colorscale": {
           "diverging": [
            [
             0,
             "#8e0152"
            ],
            [
             0.1,
             "#c51b7d"
            ],
            [
             0.2,
             "#de77ae"
            ],
            [
             0.3,
             "#f1b6da"
            ],
            [
             0.4,
             "#fde0ef"
            ],
            [
             0.5,
             "#f7f7f7"
            ],
            [
             0.6,
             "#e6f5d0"
            ],
            [
             0.7,
             "#b8e186"
            ],
            [
             0.8,
             "#7fbc41"
            ],
            [
             0.9,
             "#4d9221"
            ],
            [
             1,
             "#276419"
            ]
           ],
           "sequential": [
            [
             0,
             "#0d0887"
            ],
            [
             0.1111111111111111,
             "#46039f"
            ],
            [
             0.2222222222222222,
             "#7201a8"
            ],
            [
             0.3333333333333333,
             "#9c179e"
            ],
            [
             0.4444444444444444,
             "#bd3786"
            ],
            [
             0.5555555555555556,
             "#d8576b"
            ],
            [
             0.6666666666666666,
             "#ed7953"
            ],
            [
             0.7777777777777778,
             "#fb9f3a"
            ],
            [
             0.8888888888888888,
             "#fdca26"
            ],
            [
             1,
             "#f0f921"
            ]
           ],
           "sequentialminus": [
            [
             0,
             "#0d0887"
            ],
            [
             0.1111111111111111,
             "#46039f"
            ],
            [
             0.2222222222222222,
             "#7201a8"
            ],
            [
             0.3333333333333333,
             "#9c179e"
            ],
            [
             0.4444444444444444,
             "#bd3786"
            ],
            [
             0.5555555555555556,
             "#d8576b"
            ],
            [
             0.6666666666666666,
             "#ed7953"
            ],
            [
             0.7777777777777778,
             "#fb9f3a"
            ],
            [
             0.8888888888888888,
             "#fdca26"
            ],
            [
             1,
             "#f0f921"
            ]
           ]
          },
          "colorway": [
           "#636efa",
           "#EF553B",
           "#00cc96",
           "#ab63fa",
           "#FFA15A",
           "#19d3f3",
           "#FF6692",
           "#B6E880",
           "#FF97FF",
           "#FECB52"
          ],
          "font": {
           "color": "#2a3f5f"
          },
          "geo": {
           "bgcolor": "white",
           "lakecolor": "white",
           "landcolor": "#E5ECF6",
           "showlakes": true,
           "showland": true,
           "subunitcolor": "white"
          },
          "hoverlabel": {
           "align": "left"
          },
          "hovermode": "closest",
          "mapbox": {
           "style": "light"
          },
          "paper_bgcolor": "white",
          "plot_bgcolor": "#E5ECF6",
          "polar": {
           "angularaxis": {
            "gridcolor": "white",
            "linecolor": "white",
            "ticks": ""
           },
           "bgcolor": "#E5ECF6",
           "radialaxis": {
            "gridcolor": "white",
            "linecolor": "white",
            "ticks": ""
           }
          },
          "scene": {
           "xaxis": {
            "backgroundcolor": "#E5ECF6",
            "gridcolor": "white",
            "gridwidth": 2,
            "linecolor": "white",
            "showbackground": true,
            "ticks": "",
            "zerolinecolor": "white"
           },
           "yaxis": {
            "backgroundcolor": "#E5ECF6",
            "gridcolor": "white",
            "gridwidth": 2,
            "linecolor": "white",
            "showbackground": true,
            "ticks": "",
            "zerolinecolor": "white"
           },
           "zaxis": {
            "backgroundcolor": "#E5ECF6",
            "gridcolor": "white",
            "gridwidth": 2,
            "linecolor": "white",
            "showbackground": true,
            "ticks": "",
            "zerolinecolor": "white"
           }
          },
          "shapedefaults": {
           "line": {
            "color": "#2a3f5f"
           }
          },
          "ternary": {
           "aaxis": {
            "gridcolor": "white",
            "linecolor": "white",
            "ticks": ""
           },
           "baxis": {
            "gridcolor": "white",
            "linecolor": "white",
            "ticks": ""
           },
           "bgcolor": "#E5ECF6",
           "caxis": {
            "gridcolor": "white",
            "linecolor": "white",
            "ticks": ""
           }
          },
          "title": {
           "x": 0.05
          },
          "xaxis": {
           "automargin": true,
           "gridcolor": "white",
           "linecolor": "white",
           "ticks": "",
           "title": {
            "standoff": 15
           },
           "zerolinecolor": "white",
           "zerolinewidth": 2
          },
          "yaxis": {
           "automargin": true,
           "gridcolor": "white",
           "linecolor": "white",
           "ticks": "",
           "title": {
            "standoff": 15
           },
           "zerolinecolor": "white",
           "zerolinewidth": 2
          }
         }
        },
        "title": {
         "text": "Link Frequency"
        },
        "xaxis": {
         "anchor": "y",
         "domain": [
          0,
          1
         ],
         "title": {
          "text": "URL"
         }
        },
        "yaxis": {
         "anchor": "x",
         "domain": [
          0,
          1
         ],
         "title": {
          "text": "Count"
         }
        }
       }
      }
     },
     "metadata": {},
     "output_type": "display_data"
    }
   ],
   "source": [
    "import pandas as pd\n",
    "from bs4 import BeautifulSoup\n",
    "\n",
    "# リストを作成してリンク情報を格納\n",
    "link_data = []\n",
    "\n",
    "# rows はデータベースから取得した行（前回取得したリンク情報）\n",
    "for row in rows:\n",
    "    # HTMLデータをBeautifulSoupでパース\n",
    "    soup = BeautifulSoup(row[1], 'html.parser')\n",
    "    # href属性を取得\n",
    "    href = soup.a['href']\n",
    "    # クラス名を取得\n",
    "    class_name = soup.a['class'][0]  # もしclassが複数ある場合には調整する\n",
    "    link_data.append({'ID': row[0], 'URL': href, 'Class': class_name})\n",
    "\n",
    "# DataFrameに変換\n",
    "link_counts = pd.DataFrame(link_data)\n",
    "\n",
    "# 頻度の集計（リンクの出現回数を数える）\n",
    "link_counts_frequency = link_counts.groupby('URL').size().reset_index(name='Count')\n",
    "\n",
    "# グラフ化（Plotlyを使用して可視化）\n",
    "import plotly.express as px\n",
    "fig = px.bar(link_counts_frequency, x='URL', y='Count', title='Link Frequency')\n",
    "fig.show()\n"
   ]
  },
  {
   "cell_type": "code",
   "execution_count": 32,
   "metadata": {},
   "outputs": [],
   "source": [
    "import csv\n",
    "\n",
    "with open('links_output.csv', mode='w', newline='', encoding='utf-8') as file:\n",
    "    writer = csv.writer(file)\n",
    "    writer.writerow(['ID', 'URL', 'Class'])\n",
    "    for row in rows:\n",
    "        soup = BeautifulSoup(row[1], 'html.parser')\n",
    "        href = soup.a['href']\n",
    "        class_name = soup.a['class'][0]\n",
    "        writer.writerow([row[0], href, class_name])\n"
   ]
  }
 ],
 "metadata": {
  "kernelspec": {
   "display_name": "3.10.1",
   "language": "python",
   "name": "python3"
  },
  "language_info": {
   "codemirror_mode": {
    "name": "ipython",
    "version": 3
   },
   "file_extension": ".py",
   "mimetype": "text/x-python",
   "name": "python",
   "nbconvert_exporter": "python",
   "pygments_lexer": "ipython3",
   "version": "3.10.1"
  }
 },
 "nbformat": 4,
 "nbformat_minor": 2
}
